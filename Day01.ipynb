{
 "cells": [
  {
   "cell_type": "code",
   "execution_count": 1,
   "source": [
    "!ls -l"
   ],
   "outputs": [
    {
     "output_type": "stream",
     "name": "stdout",
     "text": [
      "total 216\n",
      "-rw-rw-r-- 1 adel adel    386 Sep 24 19:33 Day01.ipynb\n",
      "-rw-rw-r-- 1 adel adel    294 Sep 24 19:05 README.md\n",
      "-rw-rw-r-- 1 adel adel 209718 Sep 24 18:47 Syllabus+-+Python+for+DevOps.pdf\n"
     ]
    }
   ],
   "metadata": {}
  },
  {
   "cell_type": "code",
   "execution_count": 3,
   "source": [
    "var = !ls -l\n",
    "type(var)"
   ],
   "outputs": [
    {
     "output_type": "execute_result",
     "data": {
      "text/plain": [
       "IPython.utils.text.SList"
      ]
     },
     "metadata": {},
     "execution_count": 3
    }
   ],
   "metadata": {}
  },
  {
   "cell_type": "code",
   "execution_count": 4,
   "source": [
    "var.fields"
   ],
   "outputs": [
    {
     "output_type": "execute_result",
     "data": {
      "text/plain": [
       "<bound method SList.fields of ['total 216', '-rw-rw-r-- 1 adel adel   1364 Sep 24 19:33 Day01.ipynb', '-rw-rw-r-- 1 adel adel    294 Sep 24 19:05 README.md', '-rw-rw-r-- 1 adel adel 209718 Sep 24 18:47 Syllabus+-+Python+for+DevOps.pdf']>"
      ]
     },
     "metadata": {},
     "execution_count": 4
    }
   ],
   "metadata": {}
  },
  {
   "cell_type": "code",
   "execution_count": 6,
   "source": [
    "var.grep(\"data\")"
   ],
   "outputs": [
    {
     "output_type": "execute_result",
     "data": {
      "text/plain": [
       "[]"
      ]
     },
     "metadata": {},
     "execution_count": 6
    }
   ],
   "metadata": {}
  },
  {
   "cell_type": "code",
   "execution_count": 7,
   "source": [
    "too_many_decimals = 1.912345897\n",
    "\n",
    "print(\"built in Python Round\")\n",
    "%timeit round(too_many_decimals, 2)"
   ],
   "outputs": [
    {
     "output_type": "stream",
     "name": "stdout",
     "text": [
      "built in Python Round\n",
      "394 ns ± 6.55 ns per loop (mean ± std. dev. of 7 runs, 1000000 loops each)\n"
     ]
    }
   ],
   "metadata": {}
  },
  {
   "cell_type": "code",
   "execution_count": 10,
   "source": [
    "alias lscsv ls -l ./*.ipynb"
   ],
   "outputs": [],
   "metadata": {}
  },
  {
   "cell_type": "code",
   "execution_count": 11,
   "source": [
    "lscsv"
   ],
   "outputs": [
    {
     "output_type": "stream",
     "name": "stdout",
     "text": [
      "-rw-rw-r-- 1 adel adel 3207 Sep 24 19:35 ./Day01.ipynb\n"
     ]
    }
   ],
   "metadata": {}
  },
  {
   "cell_type": "code",
   "execution_count": 12,
   "source": [
    "var1=1"
   ],
   "outputs": [],
   "metadata": {}
  },
  {
   "cell_type": "code",
   "execution_count": 13,
   "source": [
    "who"
   ],
   "outputs": [
    {
     "output_type": "stream",
     "name": "stdout",
     "text": [
      "os\t sys\t too_many_decimals\t var\t var1\t \n"
     ]
    }
   ],
   "metadata": {}
  },
  {
   "cell_type": "code",
   "execution_count": 14,
   "source": [
    "too_many_decimals"
   ],
   "outputs": [
    {
     "output_type": "execute_result",
     "data": {
      "text/plain": [
       "1.912345897"
      ]
     },
     "metadata": {},
     "execution_count": 14
    }
   ],
   "metadata": {}
  },
  {
   "cell_type": "code",
   "execution_count": 15,
   "source": [
    "%%writefile magic_stuff.py\n",
    "import pandas as pd\n",
    "df = pd.read_csv(\n",
    "    \"https://raw.githubusercontent.com/noahgift/food/master/data/features.en.openfoodfacts.org.products.csv\")\n",
    "df.drop([\"Unnamed: 0\", \"exceeded\", \"g_sum\", \"energy_100g\"], axis=1, inplace=True) #drop two rows we don't need\n",
    "df = df.drop(df.index[[1,11877]]) #drop outlier\n",
    "df.rename(index=str, columns={\"reconstructed_energy\": \"energy_100g\"}, inplace=True)\n",
    "print(df.head())"
   ],
   "outputs": [
    {
     "output_type": "stream",
     "name": "stdout",
     "text": [
      "Writing magic_stuff.py\n"
     ]
    }
   ],
   "metadata": {}
  },
  {
   "cell_type": "code",
   "execution_count": 16,
   "source": [
    "cat magic_stuff.py"
   ],
   "outputs": [
    {
     "output_type": "stream",
     "name": "stdout",
     "text": [
      "import pandas as pd\n",
      "df = pd.read_csv(\n",
      "    \"https://raw.githubusercontent.com/noahgift/food/master/data/features.en.openfoodfacts.org.products.csv\")\n",
      "df.drop([\"Unnamed: 0\", \"exceeded\", \"g_sum\", \"energy_100g\"], axis=1, inplace=True) #drop two rows we don't need\n",
      "df = df.drop(df.index[[1,11877]]) #drop outlier\n",
      "df.rename(index=str, columns={\"reconstructed_energy\": \"energy_100g\"}, inplace=True)\n",
      "print(df.head())\n"
     ]
    }
   ],
   "metadata": {}
  },
  {
   "cell_type": "code",
   "execution_count": 17,
   "source": [
    "!python magic_stuff.py"
   ],
   "outputs": [
    {
     "output_type": "stream",
     "name": "stdout",
     "text": [
      "   fat_100g  carbohydrates_100g  ...  energy_100g                         product\n",
      "0     28.57               64.29  ...      2267.85  Banana Chips Sweetened (Whole)\n",
      "2     57.14               17.86  ...      2835.70          Organic Salted Nut Mix\n",
      "3     18.75               57.81  ...      1953.04                  Organic Muesli\n",
      "4     36.67               36.67  ...      2336.91                   Zen Party Mix\n",
      "5     18.18               60.00  ...      1976.37            Cinnamon Nut Granola\n",
      "\n",
      "[5 rows x 7 columns]\n"
     ]
    }
   ],
   "metadata": {}
  },
  {
   "cell_type": "code",
   "execution_count": 18,
   "source": [
    "!conda install -q pylint"
   ],
   "outputs": [
    {
     "output_type": "stream",
     "name": "stdout",
     "text": [
      "Collecting package metadata (current_repodata.json): ...working... done\n",
      "Solving environment: ...working... done\n",
      "\n",
      "# All requested packages already installed.\n",
      "\n"
     ]
    }
   ],
   "metadata": {}
  },
  {
   "cell_type": "code",
   "execution_count": 19,
   "source": [
    "!pylint magic_stuff.py"
   ],
   "outputs": [
    {
     "output_type": "stream",
     "name": "stdout",
     "text": [
      "************* Module magic_stuff\n",
      "magic_stuff.py:3:0: C0301: Line too long (109/100) (line-too-long)\n",
      "magic_stuff.py:4:0: C0301: Line too long (110/100) (line-too-long)\n",
      "magic_stuff.py:1:0: C0114: Missing module docstring (missing-module-docstring)\n",
      "magic_stuff.py:5:5: E1101: Instance of 'TextFileReader' has no 'drop' member (no-member)\n",
      "magic_stuff.py:5:13: E1101: Instance of 'TextFileReader' has no 'index' member (no-member)\n",
      "\n",
      "-------------------------------------\n",
      "Your code has been rated at -11.67/10\n",
      "\n",
      "\u001b[0m"
     ]
    }
   ],
   "metadata": {}
  },
  {
   "cell_type": "code",
   "execution_count": null,
   "source": [
    "%%bash\n",
    "uname -a\n",
    "ls\n",
    "ps"
   ],
   "outputs": [],
   "metadata": {}
  },
  {
   "cell_type": "code",
   "execution_count": null,
   "source": [
    "!uname -a"
   ],
   "outputs": [],
   "metadata": {}
  },
  {
   "cell_type": "code",
   "execution_count": 22,
   "source": [
    "%%python2\n",
    "print \"old school\""
   ],
   "outputs": [
    {
     "output_type": "stream",
     "name": "stdout",
     "text": [
      "old school\n"
     ]
    }
   ],
   "metadata": {}
  },
  {
   "cell_type": "code",
   "execution_count": 23,
   "source": [
    "%%html\n",
    "<h1>Only The Best Tags and People</h>"
   ],
   "outputs": [
    {
     "output_type": "display_data",
     "data": {
      "text/html": [
       "<h1>Only The Best Tags and People</h>\n"
      ],
      "text/plain": [
       "<IPython.core.display.HTML object>"
      ]
     },
     "metadata": {}
    }
   ],
   "metadata": {}
  },
  {
   "cell_type": "code",
   "execution_count": null,
   "source": [
    "!pip install --upgrade -q gspread"
   ],
   "outputs": [],
   "metadata": {}
  },
  {
   "cell_type": "code",
   "execution_count": null,
   "source": [
    "from google.colab import auth\n",
    "auth.authenticate_user()\n",
    "\n",
    "import gspread\n",
    "from oauth2client.client import GoogleCredentials\n",
    "\n",
    "gc = gspread.authorize(GoogleCredentials.get_application_default())\n",
    "\n",
    "worksheet = gc.open('DevOp-Wonder').sheet1\n",
    "\n",
    "# get_all_values gives a list of rows.\n",
    "rows = worksheet.get_all_values()\n",
    "print(rows)\n",
    "\n",
    "# Convert to a DataFrame and render.\n",
    "import pandas as pd\n",
    "df = pd.DataFrame.from_records(rows)\n",
    "df"
   ],
   "outputs": [],
   "metadata": {}
  },
  {
   "cell_type": "code",
   "execution_count": null,
   "source": [
    "df.median()"
   ],
   "outputs": [],
   "metadata": {}
  },
  {
   "cell_type": "code",
   "execution_count": null,
   "source": [
    "from google.colab import files\n",
    "uploaded = files.upload()"
   ],
   "outputs": [],
   "metadata": {}
  },
  {
   "cell_type": "code",
   "execution_count": 27,
   "source": [
    "!ls -l"
   ],
   "outputs": [
    {
     "output_type": "stream",
     "name": "stdout",
     "text": [
      "total 228\n",
      "-rw-rw-r-- 1 adel adel   9756 Sep 24 19:41 Day01.ipynb\n",
      "-rw-rw-r-- 1 adel adel    408 Sep 24 19:36 magic_stuff.py\n",
      "-rw-rw-r-- 1 adel adel    294 Sep 24 19:05 README.md\n",
      "-rw-rw-r-- 1 adel adel 209718 Sep 24 18:47 Syllabus+-+Python+for+DevOps.pdf\n"
     ]
    }
   ],
   "metadata": {}
  },
  {
   "cell_type": "code",
   "execution_count": null,
   "source": [
    "import pandas as pd\n",
    "df = pd.read_csv(\"automl-tables_notebooks_census_income.csv\")\n",
    "df.head(2)"
   ],
   "outputs": [],
   "metadata": {}
  },
  {
   "cell_type": "code",
   "execution_count": 28,
   "source": [
    "import pandas as pd\n",
    "df = pd.read_csv(\"https://raw.githubusercontent.com/noahgift/sugar/master/data/education_sugar_cdc_2003.csv\")\n",
    "df.head()"
   ],
   "outputs": [
    {
     "output_type": "execute_result",
     "data": {
      "text/html": [
       "<div>\n",
       "<style scoped>\n",
       "    .dataframe tbody tr th:only-of-type {\n",
       "        vertical-align: middle;\n",
       "    }\n",
       "\n",
       "    .dataframe tbody tr th {\n",
       "        vertical-align: top;\n",
       "    }\n",
       "\n",
       "    .dataframe thead th {\n",
       "        text-align: right;\n",
       "    }\n",
       "</style>\n",
       "<table border=\"1\" class=\"dataframe\">\n",
       "  <thead>\n",
       "    <tr style=\"text-align: right;\">\n",
       "      <th></th>\n",
       "      <th>State</th>\n",
       "      <th>Employed</th>\n",
       "      <th>Not employed</th>\n",
       "      <th>Retired</th>\n",
       "      <th>&lt;High school</th>\n",
       "      <th>High school</th>\n",
       "      <th>Some college</th>\n",
       "      <th>College graduate</th>\n",
       "    </tr>\n",
       "  </thead>\n",
       "  <tbody>\n",
       "    <tr>\n",
       "      <th>0</th>\n",
       "      <td>Alaska</td>\n",
       "      <td>26.2 (23.6–28.9)</td>\n",
       "      <td>32.1 (27.8–36.8)</td>\n",
       "      <td>16.0 (12.6–20.2)</td>\n",
       "      <td>47.1 (37.8–56.5)</td>\n",
       "      <td>34.9 (31.1–38.9)</td>\n",
       "      <td>24.2 (21.0–27.8)</td>\n",
       "      <td>12.9 (10.5–15.7)</td>\n",
       "    </tr>\n",
       "    <tr>\n",
       "      <th>1</th>\n",
       "      <td>Arizona</td>\n",
       "      <td>33.0 (28.5–37.8)</td>\n",
       "      <td>28.7 (23.5–34.5)</td>\n",
       "      <td>13.8 (10.8–17.5)</td>\n",
       "      <td>40.4 (30.9–50.7)</td>\n",
       "      <td>36.5 (30.7–42.7)</td>\n",
       "      <td>24.4 (19.9–29.4)</td>\n",
       "      <td>14.6 (11.6–18.3)</td>\n",
       "    </tr>\n",
       "    <tr>\n",
       "      <th>2</th>\n",
       "      <td>California</td>\n",
       "      <td>22.9 (20.9–25.1)</td>\n",
       "      <td>30.2 (27.1–33.4)</td>\n",
       "      <td>15.0 (12.2–18.2)</td>\n",
       "      <td>38.5 (34.2–43.0)</td>\n",
       "      <td>29.9 (26.5–33.7)</td>\n",
       "      <td>21.4 (18.8–24.2)</td>\n",
       "      <td>11.5 (9.8–13.5)</td>\n",
       "    </tr>\n",
       "    <tr>\n",
       "      <th>3</th>\n",
       "      <td>Connecticut</td>\n",
       "      <td>18.9 (17.1–20.9)</td>\n",
       "      <td>24.3 (20.8–28.2)</td>\n",
       "      <td>15.0 (12.7–17.7)</td>\n",
       "      <td>27.8 (22.4–33.9)</td>\n",
       "      <td>26.9 (23.7–30.3)</td>\n",
       "      <td>19.9 (17.2–23.0)</td>\n",
       "      <td>10.2 (8.7–12.0)</td>\n",
       "    </tr>\n",
       "    <tr>\n",
       "      <th>4</th>\n",
       "      <td>District of Columbia</td>\n",
       "      <td>18.5 (15.7–21.7)</td>\n",
       "      <td>34.6 (29.5–40.1)</td>\n",
       "      <td>18.5 (15.3–22.1)</td>\n",
       "      <td>45.6 (36.4–55.2)</td>\n",
       "      <td>39.0 (33.1–45.2)</td>\n",
       "      <td>28.9 (23.4–35.0)</td>\n",
       "      <td>8.4 (7.0–10.1)</td>\n",
       "    </tr>\n",
       "  </tbody>\n",
       "</table>\n",
       "</div>"
      ],
      "text/plain": [
       "                  State          Employed      Not employed           Retired  \\\n",
       "0                Alaska  26.2 (23.6–28.9)  32.1 (27.8–36.8)  16.0 (12.6–20.2)   \n",
       "1               Arizona  33.0 (28.5–37.8)  28.7 (23.5–34.5)  13.8 (10.8–17.5)   \n",
       "2            California  22.9 (20.9–25.1)  30.2 (27.1–33.4)  15.0 (12.2–18.2)   \n",
       "3           Connecticut  18.9 (17.1–20.9)  24.3 (20.8–28.2)  15.0 (12.7–17.7)   \n",
       "4  District of Columbia  18.5 (15.7–21.7)  34.6 (29.5–40.1)  18.5 (15.3–22.1)   \n",
       "\n",
       "       <High school       High school      Some college  College graduate  \n",
       "0  47.1 (37.8–56.5)  34.9 (31.1–38.9)  24.2 (21.0–27.8)  12.9 (10.5–15.7)  \n",
       "1  40.4 (30.9–50.7)  36.5 (30.7–42.7)  24.4 (19.9–29.4)  14.6 (11.6–18.3)  \n",
       "2  38.5 (34.2–43.0)  29.9 (26.5–33.7)  21.4 (18.8–24.2)   11.5 (9.8–13.5)  \n",
       "3  27.8 (22.4–33.9)  26.9 (23.7–30.3)  19.9 (17.2–23.0)   10.2 (8.7–12.0)  \n",
       "4  45.6 (36.4–55.2)  39.0 (33.1–45.2)  28.9 (23.4–35.0)    8.4 (7.0–10.1)  "
      ]
     },
     "metadata": {},
     "execution_count": 28
    }
   ],
   "metadata": {}
  },
  {
   "cell_type": "code",
   "execution_count": 29,
   "source": [
    "df.describe()"
   ],
   "outputs": [
    {
     "output_type": "execute_result",
     "data": {
      "text/html": [
       "<div>\n",
       "<style scoped>\n",
       "    .dataframe tbody tr th:only-of-type {\n",
       "        vertical-align: middle;\n",
       "    }\n",
       "\n",
       "    .dataframe tbody tr th {\n",
       "        vertical-align: top;\n",
       "    }\n",
       "\n",
       "    .dataframe thead th {\n",
       "        text-align: right;\n",
       "    }\n",
       "</style>\n",
       "<table border=\"1\" class=\"dataframe\">\n",
       "  <thead>\n",
       "    <tr style=\"text-align: right;\">\n",
       "      <th></th>\n",
       "      <th>State</th>\n",
       "      <th>Employed</th>\n",
       "      <th>Not employed</th>\n",
       "      <th>Retired</th>\n",
       "      <th>&lt;High school</th>\n",
       "      <th>High school</th>\n",
       "      <th>Some college</th>\n",
       "      <th>College graduate</th>\n",
       "    </tr>\n",
       "  </thead>\n",
       "  <tbody>\n",
       "    <tr>\n",
       "      <th>count</th>\n",
       "      <td>24</td>\n",
       "      <td>24</td>\n",
       "      <td>24</td>\n",
       "      <td>24</td>\n",
       "      <td>24</td>\n",
       "      <td>24</td>\n",
       "      <td>24</td>\n",
       "      <td>24</td>\n",
       "    </tr>\n",
       "    <tr>\n",
       "      <th>unique</th>\n",
       "      <td>24</td>\n",
       "      <td>24</td>\n",
       "      <td>24</td>\n",
       "      <td>24</td>\n",
       "      <td>24</td>\n",
       "      <td>24</td>\n",
       "      <td>23</td>\n",
       "      <td>24</td>\n",
       "    </tr>\n",
       "    <tr>\n",
       "      <th>top</th>\n",
       "      <td>Alaska</td>\n",
       "      <td>26.2 (23.6–28.9)</td>\n",
       "      <td>32.1 (27.8–36.8)</td>\n",
       "      <td>16.0 (12.6–20.2)</td>\n",
       "      <td>47.1 (37.8–56.5)</td>\n",
       "      <td>34.9 (31.1–38.9)</td>\n",
       "      <td>24.2 (21.0–27.8)</td>\n",
       "      <td>12.9 (10.5–15.7)</td>\n",
       "    </tr>\n",
       "    <tr>\n",
       "      <th>freq</th>\n",
       "      <td>1</td>\n",
       "      <td>1</td>\n",
       "      <td>1</td>\n",
       "      <td>1</td>\n",
       "      <td>1</td>\n",
       "      <td>1</td>\n",
       "      <td>2</td>\n",
       "      <td>1</td>\n",
       "    </tr>\n",
       "  </tbody>\n",
       "</table>\n",
       "</div>"
      ],
      "text/plain": [
       "         State          Employed      Not employed           Retired  \\\n",
       "count       24                24                24                24   \n",
       "unique      24                24                24                24   \n",
       "top     Alaska  26.2 (23.6–28.9)  32.1 (27.8–36.8)  16.0 (12.6–20.2)   \n",
       "freq         1                 1                 1                 1   \n",
       "\n",
       "            <High school       High school      Some college  College graduate  \n",
       "count                 24                24                24                24  \n",
       "unique                24                24                23                24  \n",
       "top     47.1 (37.8–56.5)  34.9 (31.1–38.9)  24.2 (21.0–27.8)  12.9 (10.5–15.7)  \n",
       "freq                   1                 1                 2                 1  "
      ]
     },
     "metadata": {},
     "execution_count": 29
    }
   ],
   "metadata": {}
  },
  {
   "cell_type": "code",
   "execution_count": 30,
   "source": [
    "Use_Python = False #@param [\"False\", \"True\"] {type:\"raw\"}"
   ],
   "outputs": [],
   "metadata": {}
  },
  {
   "cell_type": "code",
   "execution_count": 31,
   "source": [
    "print(f\"You select it is {Use_Python} you use Python\")"
   ],
   "outputs": [
    {
     "output_type": "stream",
     "name": "stdout",
     "text": [
      "You select it is False you use Python\n"
     ]
    }
   ],
   "metadata": {}
  },
  {
   "cell_type": "code",
   "execution_count": 32,
   "source": [
    "!python -c \"import os;print(os.listdir())\""
   ],
   "outputs": [
    {
     "output_type": "stream",
     "name": "stdout",
     "text": [
      "['.git', 'magic_stuff.py', 'README.md', 'Syllabus+-+Python+for+DevOps.pdf', 'Day01.ipynb']\n"
     ]
    }
   ],
   "metadata": {}
  },
  {
   "cell_type": "code",
   "execution_count": 33,
   "source": [
    "!ls -l"
   ],
   "outputs": [
    {
     "output_type": "stream",
     "name": "stdout",
     "text": [
      "total 236\n",
      "-rw-rw-r-- 1 adel adel  19763 Sep 24 19:43 Day01.ipynb\n",
      "-rw-rw-r-- 1 adel adel    408 Sep 24 19:36 magic_stuff.py\n",
      "-rw-rw-r-- 1 adel adel    294 Sep 24 19:05 README.md\n",
      "-rw-rw-r-- 1 adel adel 209718 Sep 24 18:47 Syllabus+-+Python+for+DevOps.pdf\n"
     ]
    }
   ],
   "metadata": {}
  },
  {
   "cell_type": "code",
   "execution_count": 34,
   "source": [
    "!conda install -q boto3"
   ],
   "outputs": [
    {
     "output_type": "stream",
     "name": "stdout",
     "text": [
      "Collecting package metadata (current_repodata.json): ...working... done\n",
      "Solving environment: ...working... done\n",
      "\n",
      "## Package Plan ##\n",
      "\n",
      "  environment location: /home/adel/miniconda3/envs/ML_DS\n",
      "\n",
      "  added / updated specs:\n",
      "    - boto3\n",
      "\n",
      "\n",
      "The following packages will be downloaded:\n",
      "\n",
      "    package                    |            build\n",
      "    ---------------------------|-----------------\n",
      "    boto3-1.18.21              |     pyhd3eb1b0_0          70 KB\n",
      "    botocore-1.21.21           |     pyhd3eb1b0_1         3.8 MB\n",
      "    jmespath-0.10.0            |     pyhd3eb1b0_0          22 KB\n",
      "    s3transfer-0.5.0           |     pyhd3eb1b0_0          57 KB\n",
      "    ------------------------------------------------------------\n",
      "                                           Total:         4.0 MB\n",
      "\n",
      "The following NEW packages will be INSTALLED:\n",
      "\n",
      "  boto3              pkgs/main/noarch::boto3-1.18.21-pyhd3eb1b0_0\n",
      "  botocore           pkgs/main/noarch::botocore-1.21.21-pyhd3eb1b0_1\n",
      "  jmespath           pkgs/main/noarch::jmespath-0.10.0-pyhd3eb1b0_0\n",
      "  s3transfer         pkgs/main/noarch::s3transfer-0.5.0-pyhd3eb1b0_0\n",
      "\n",
      "\n",
      "Proceed ([y]/n)? ^C\n",
      "\n",
      "CondaSystemExit: \n",
      "Operation aborted.  Exiting.\n",
      "\n"
     ]
    }
   ],
   "metadata": {}
  },
  {
   "cell_type": "code",
   "execution_count": null,
   "source": [
    "#this is how you capture input to a program\n",
    "import sys;sys.argv"
   ],
   "outputs": [],
   "metadata": {}
  },
  {
   "cell_type": "code",
   "execution_count": 36,
   "source": [
    "print(\"Hello world\")"
   ],
   "outputs": [
    {
     "output_type": "stream",
     "name": "stdout",
     "text": [
      "Hello world\n"
     ]
    }
   ],
   "metadata": {}
  },
  {
   "cell_type": "code",
   "execution_count": 37,
   "source": [
    "variable = \"armbar\"\n",
    "variable"
   ],
   "outputs": [
    {
     "output_type": "execute_result",
     "data": {
      "text/plain": [
       "'armbar'"
      ]
     },
     "metadata": {},
     "execution_count": 37
    }
   ],
   "metadata": {}
  },
  {
   "cell_type": "code",
   "execution_count": 38,
   "source": [
    "attack_one = \"kimura\"\n",
    "attack_two = \"arm triangle\"\n",
    "print(\"In Brazilian Jiu Jitsu a common attack is a:\", attack_one)\n",
    "print(\"Another common attack is a:\", attack_two)"
   ],
   "outputs": [
    {
     "output_type": "stream",
     "name": "stdout",
     "text": [
      "In Brazilian Jiu Jitsu a common attack is a: kimura\n",
      "Another common attack is a: arm triangle\n"
     ]
    }
   ],
   "metadata": {}
  },
  {
   "cell_type": "code",
   "execution_count": 39,
   "source": [
    "1+1"
   ],
   "outputs": [
    {
     "output_type": "execute_result",
     "data": {
      "text/plain": [
       "2"
      ]
     },
     "metadata": {},
     "execution_count": 39
    }
   ],
   "metadata": {}
  },
  {
   "cell_type": "code",
   "execution_count": 40,
   "source": [
    "\"arm\" + \" bar\"+\" 4\"+\" morestuff \" + \"lemon\""
   ],
   "outputs": [
    {
     "output_type": "execute_result",
     "data": {
      "text/plain": [
       "'arm bar 4 morestuff lemon'"
      ]
     },
     "metadata": {},
     "execution_count": 40
    }
   ],
   "metadata": {}
  },
  {
   "cell_type": "code",
   "execution_count": 41,
   "source": [
    "belts = [\"white\", \"blue\", \"purple\", \"brown\", \"black\"]\n",
    "for belt in belts:\n",
    "    if \"black\" in belt:\n",
    "        print(\"The belt I want to be is:\", belt)\n",
    "    else:\n",
    "        print(\"This is not the belt I want to end up at:\", belt)"
   ],
   "outputs": [
    {
     "output_type": "stream",
     "name": "stdout",
     "text": [
      "This is not the belt I want to end up at: white\n",
      "This is not the belt I want to end up at: blue\n",
      "This is not the belt I want to end up at: purple\n",
      "This is not the belt I want to end up at: brown\n",
      "The belt I want to be is: black\n"
     ]
    }
   ],
   "metadata": {}
  },
  {
   "cell_type": "code",
   "execution_count": 42,
   "source": [
    "my_string = \"this is a string I am using this time\"\n",
    "#my_string.split()\n",
    "#my_string.upper()\n",
    "#my_string.title()\n",
    "#my_string.count(\"this\")"
   ],
   "outputs": [],
   "metadata": {}
  },
  {
   "cell_type": "code",
   "execution_count": 43,
   "source": [
    "my_string.title()"
   ],
   "outputs": [
    {
     "output_type": "execute_result",
     "data": {
      "text/plain": [
       "'This Is A String I Am Using This Time'"
      ]
     },
     "metadata": {},
     "execution_count": 43
    }
   ],
   "metadata": {}
  },
  {
   "cell_type": "code",
   "execution_count": 44,
   "source": [
    "my_string.capitalize()"
   ],
   "outputs": [
    {
     "output_type": "execute_result",
     "data": {
      "text/plain": [
       "'This is a string i am using this time'"
      ]
     },
     "metadata": {},
     "execution_count": 44
    }
   ],
   "metadata": {}
  },
  {
   "cell_type": "code",
   "execution_count": 45,
   "source": [
    "my_string.isnumeric()"
   ],
   "outputs": [
    {
     "output_type": "execute_result",
     "data": {
      "text/plain": [
       "False"
      ]
     },
     "metadata": {},
     "execution_count": 45
    }
   ],
   "metadata": {}
  },
  {
   "cell_type": "code",
   "execution_count": 46,
   "source": [
    "print(my_string)\n",
    "var2 = my_string.swapcase()\n",
    "print(var2)\n",
    "print(var2.swapcase())"
   ],
   "outputs": [
    {
     "output_type": "stream",
     "name": "stdout",
     "text": [
      "this is a string I am using this time\n",
      "THIS IS A STRING i AM USING THIS TIME\n",
      "this is a string I am using this time\n"
     ]
    }
   ],
   "metadata": {}
  },
  {
   "cell_type": "code",
   "execution_count": 47,
   "source": [
    "basic_string = \"Brazilian Jiu Jitsu\""
   ],
   "outputs": [],
   "metadata": {}
  },
  {
   "cell_type": "code",
   "execution_count": 48,
   "source": [
    "#split on spaces (default)\n",
    "basic_string.split()"
   ],
   "outputs": [
    {
     "output_type": "execute_result",
     "data": {
      "text/plain": [
       "['Brazilian', 'Jiu', 'Jitsu']"
      ]
     },
     "metadata": {},
     "execution_count": 48
    }
   ],
   "metadata": {}
  },
  {
   "cell_type": "code",
   "execution_count": 49,
   "source": [
    "result = basic_string.split()\n",
    "len(result)"
   ],
   "outputs": [
    {
     "output_type": "execute_result",
     "data": {
      "text/plain": [
       "3"
      ]
     },
     "metadata": {},
     "execution_count": 49
    }
   ],
   "metadata": {}
  },
  {
   "cell_type": "code",
   "execution_count": 50,
   "source": [
    "#split on hyphen\n",
    "string_with_hyphen = \"Brazilian-Jiu-Jitsu\"\n",
    "string_with_hyphen.split(\"-\")"
   ],
   "outputs": [
    {
     "output_type": "execute_result",
     "data": {
      "text/plain": [
       "['Brazilian', 'Jiu', 'Jitsu']"
      ]
     },
     "metadata": {},
     "execution_count": 50
    }
   ],
   "metadata": {}
  },
  {
   "cell_type": "code",
   "execution_count": 51,
   "source": [
    "#split on comma\n",
    "string_with_hyphen = \"Brazilian,Jiu,Jitsu\"\n",
    "string_with_hyphen.split(\",\")"
   ],
   "outputs": [
    {
     "output_type": "execute_result",
     "data": {
      "text/plain": [
       "['Brazilian', 'Jiu', 'Jitsu']"
      ]
     },
     "metadata": {},
     "execution_count": 51
    }
   ],
   "metadata": {}
  },
  {
   "cell_type": "code",
   "execution_count": 52,
   "source": [
    "basic_string.capitalize()"
   ],
   "outputs": [
    {
     "output_type": "execute_result",
     "data": {
      "text/plain": [
       "'Brazilian jiu jitsu'"
      ]
     },
     "metadata": {},
     "execution_count": 52
    }
   ],
   "metadata": {}
  },
  {
   "cell_type": "code",
   "execution_count": 53,
   "source": [
    "#Get the last character\n",
    "basic_string[-1:]"
   ],
   "outputs": [
    {
     "output_type": "execute_result",
     "data": {
      "text/plain": [
       "'u'"
      ]
     },
     "metadata": {},
     "execution_count": 53
    }
   ],
   "metadata": {}
  },
  {
   "cell_type": "code",
   "execution_count": 54,
   "source": [
    "len(basic_string[2:])"
   ],
   "outputs": [
    {
     "output_type": "execute_result",
     "data": {
      "text/plain": [
       "17"
      ]
     },
     "metadata": {},
     "execution_count": 54
    }
   ],
   "metadata": {}
  },
  {
   "cell_type": "code",
   "execution_count": 55,
   "source": [
    "#Get length of string\n",
    "len(basic_string)"
   ],
   "outputs": [
    {
     "output_type": "execute_result",
     "data": {
      "text/plain": [
       "19"
      ]
     },
     "metadata": {},
     "execution_count": 55
    }
   ],
   "metadata": {}
  },
  {
   "cell_type": "code",
   "execution_count": 56,
   "source": [
    "basic_string[-18:]"
   ],
   "outputs": [
    {
     "output_type": "execute_result",
     "data": {
      "text/plain": [
       "'razilian Jiu Jitsu'"
      ]
     },
     "metadata": {},
     "execution_count": 56
    }
   ],
   "metadata": {}
  },
  {
   "cell_type": "code",
   "execution_count": 57,
   "source": [
    "basic_string + \" is my favorite Martial Art\""
   ],
   "outputs": [
    {
     "output_type": "execute_result",
     "data": {
      "text/plain": [
       "'Brazilian Jiu Jitsu is my favorite Martial Art'"
      ]
     },
     "metadata": {},
     "execution_count": 57
    }
   ],
   "metadata": {}
  },
  {
   "cell_type": "code",
   "execution_count": 58,
   "source": [
    "items = [\"-\",1,2,3]\n",
    "for item in items:\n",
    "  basic_string += str(item)\n",
    "basic_string"
   ],
   "outputs": [
    {
     "output_type": "execute_result",
     "data": {
      "text/plain": [
       "'Brazilian Jiu Jitsu-123'"
      ]
     },
     "metadata": {},
     "execution_count": 58
    }
   ],
   "metadata": {}
  },
  {
   "cell_type": "code",
   "execution_count": 59,
   "source": [
    "\"this is a string format: %s\" % \"wow\""
   ],
   "outputs": [
    {
     "output_type": "execute_result",
     "data": {
      "text/plain": [
       "'this is a string format: wow'"
      ]
     },
     "metadata": {},
     "execution_count": 59
    }
   ],
   "metadata": {}
  },
  {
   "cell_type": "code",
   "execution_count": 60,
   "source": [
    "f'I love practicing my favorite Martial Art, {basic_string}'"
   ],
   "outputs": [
    {
     "output_type": "execute_result",
     "data": {
      "text/plain": [
       "'I love practicing my favorite Martial Art, Brazilian Jiu Jitsu-123'"
      ]
     },
     "metadata": {},
     "execution_count": 60
    }
   ],
   "metadata": {}
  },
  {
   "cell_type": "code",
   "execution_count": 61,
   "source": [
    "f\"\"\"\n",
    "This phrase is multiple sentenances long.\n",
    "There phrase can be formatted like simpler sentances,\n",
    "for example, I can still talk about my favorite Martial Art {basic_string}\n",
    "\"\"\""
   ],
   "outputs": [
    {
     "output_type": "execute_result",
     "data": {
      "text/plain": [
       "'\\nThis phrase is multiple sentenances long.\\nThere phrase can be formatted like simpler sentances,\\nfor example, I can still talk about my favorite Martial Art Brazilian Jiu Jitsu-123\\n'"
      ]
     },
     "metadata": {},
     "execution_count": 61
    }
   ],
   "metadata": {}
  },
  {
   "cell_type": "code",
   "execution_count": 62,
   "source": [
    "f\"\"\"\n",
    "This phrase is multiple sentenances long.\n",
    "There phrase can be formatted like simpler sentances,\n",
    "for example, I can still talk about my favorite Martial Art {basic_string}\n",
    "\"\"\".replace(\"\\n\", \" \")"
   ],
   "outputs": [
    {
     "output_type": "execute_result",
     "data": {
      "text/plain": [
       "' This phrase is multiple sentenances long. There phrase can be formatted like simpler sentances, for example, I can still talk about my favorite Martial Art Brazilian Jiu Jitsu-123 '"
      ]
     },
     "metadata": {},
     "execution_count": 62
    }
   ],
   "metadata": {}
  },
  {
   "cell_type": "code",
   "execution_count": 63,
   "source": [
    "steps = (1+1)-1\n",
    "print(f\"Two Steps Forward:  One Step Back = {steps}\")"
   ],
   "outputs": [
    {
     "output_type": "stream",
     "name": "stdout",
     "text": [
      "Two Steps Forward:  One Step Back = 1\n"
     ]
    }
   ],
   "metadata": {}
  },
  {
   "cell_type": "code",
   "execution_count": 64,
   "source": [
    "body_fat_percentage = 0.10\n",
    "weight = 200\n",
    "fat_total = body_fat_percentage * weight\n",
    "print(f\"I weight 200lbs, and {fat_total}lbs of that is fat\")"
   ],
   "outputs": [
    {
     "output_type": "stream",
     "name": "stdout",
     "text": [
      "I weight 200lbs, and 20.0lbs of that is fat\n"
     ]
    }
   ],
   "metadata": {}
  },
  {
   "cell_type": "code",
   "execution_count": 65,
   "source": [
    "from decimal import (Decimal, getcontext)\n",
    "\n",
    "getcontext().prec = 5\n",
    "Decimal(1)/Decimal(3)"
   ],
   "outputs": [
    {
     "output_type": "execute_result",
     "data": {
      "text/plain": [
       "Decimal('0.33333')"
      ]
     },
     "metadata": {},
     "execution_count": 65
    }
   ],
   "metadata": {}
  },
  {
   "cell_type": "code",
   "execution_count": 66,
   "source": [
    "import math\n",
    "math.pow(2,4)"
   ],
   "outputs": [
    {
     "output_type": "execute_result",
     "data": {
      "text/plain": [
       "16.0"
      ]
     },
     "metadata": {},
     "execution_count": 66
    }
   ],
   "metadata": {}
  },
  {
   "cell_type": "code",
   "execution_count": 67,
   "source": [
    "2**4"
   ],
   "outputs": [
    {
     "output_type": "execute_result",
     "data": {
      "text/plain": [
       "16"
      ]
     },
     "metadata": {},
     "execution_count": 67
    }
   ],
   "metadata": {}
  },
  {
   "cell_type": "code",
   "execution_count": 68,
   "source": [
    "2*3"
   ],
   "outputs": [
    {
     "output_type": "execute_result",
     "data": {
      "text/plain": [
       "6"
      ]
     },
     "metadata": {},
     "execution_count": 68
    }
   ],
   "metadata": {}
  },
  {
   "cell_type": "code",
   "execution_count": 69,
   "source": [
    "number = 100\n",
    "num_type = type(number).__name__\n",
    "print(f\"{number} is type [{num_type}]\")"
   ],
   "outputs": [
    {
     "output_type": "stream",
     "name": "stdout",
     "text": [
      "100 is type [int]\n"
     ]
    }
   ],
   "metadata": {}
  },
  {
   "cell_type": "code",
   "execution_count": 70,
   "source": [
    "number = float(100)\n",
    "num_type = type(number).__name__\n",
    "print(f\"{number} is type [{num_type}]\")"
   ],
   "outputs": [
    {
     "output_type": "stream",
     "name": "stdout",
     "text": [
      "100.0 is type [float]\n"
     ]
    }
   ],
   "metadata": {}
  },
  {
   "cell_type": "code",
   "execution_count": 71,
   "source": [
    "num2 = 100.20\n",
    "type(num2)"
   ],
   "outputs": [
    {
     "output_type": "execute_result",
     "data": {
      "text/plain": [
       "float"
      ]
     },
     "metadata": {},
     "execution_count": 71
    }
   ],
   "metadata": {}
  },
  {
   "cell_type": "code",
   "execution_count": 72,
   "source": [
    "class Foo:pass\n",
    "f = Foo()"
   ],
   "outputs": [],
   "metadata": {}
  },
  {
   "cell_type": "code",
   "execution_count": 73,
   "source": [
    "type(f)"
   ],
   "outputs": [
    {
     "output_type": "execute_result",
     "data": {
      "text/plain": [
       "__main__.Foo"
      ]
     },
     "metadata": {},
     "execution_count": 73
    }
   ],
   "metadata": {}
  },
  {
   "cell_type": "code",
   "execution_count": 74,
   "source": [
    "too_many_decimals = 1.912345897\n",
    "round(too_many_decimals, 6)\n",
    "#get more info\n",
    "#round?"
   ],
   "outputs": [
    {
     "output_type": "execute_result",
     "data": {
      "text/plain": [
       "1.912346"
      ]
     },
     "metadata": {},
     "execution_count": 74
    }
   ],
   "metadata": {}
  },
  {
   "cell_type": "code",
   "execution_count": 75,
   "source": [
    "import numpy as np\n",
    "np.round(too_many_decimals, 6)"
   ],
   "outputs": [
    {
     "output_type": "execute_result",
     "data": {
      "text/plain": [
       "1.912346"
      ]
     },
     "metadata": {},
     "execution_count": 75
    }
   ],
   "metadata": {}
  },
  {
   "cell_type": "code",
   "execution_count": 76,
   "source": [
    "import pandas as pd\n",
    "df = pd.DataFrame([too_many_decimals], columns=[\"A\"], index=[\"first\"])\n",
    "df.round(2)"
   ],
   "outputs": [
    {
     "output_type": "execute_result",
     "data": {
      "text/html": [
       "<div>\n",
       "<style scoped>\n",
       "    .dataframe tbody tr th:only-of-type {\n",
       "        vertical-align: middle;\n",
       "    }\n",
       "\n",
       "    .dataframe tbody tr th {\n",
       "        vertical-align: top;\n",
       "    }\n",
       "\n",
       "    .dataframe thead th {\n",
       "        text-align: right;\n",
       "    }\n",
       "</style>\n",
       "<table border=\"1\" class=\"dataframe\">\n",
       "  <thead>\n",
       "    <tr style=\"text-align: right;\">\n",
       "      <th></th>\n",
       "      <th>A</th>\n",
       "    </tr>\n",
       "  </thead>\n",
       "  <tbody>\n",
       "    <tr>\n",
       "      <th>first</th>\n",
       "      <td>1.91</td>\n",
       "    </tr>\n",
       "  </tbody>\n",
       "</table>\n",
       "</div>"
      ],
      "text/plain": [
       "          A\n",
       "first  1.91"
      ]
     },
     "metadata": {},
     "execution_count": 76
    }
   ],
   "metadata": {}
  },
  {
   "cell_type": "code",
   "execution_count": 77,
   "source": [
    "print(\"built in Python Round\")\n",
    "%timeit round(too_many_decimals, 2)\n",
    "\n",
    "print(\"numpy round\")\n",
    "%timeit np.round(too_many_decimals, 2)\n",
    "\n",
    "print(\"Pandas DataFrame round\")\n",
    "%timeit df.round(2)"
   ],
   "outputs": [
    {
     "output_type": "stream",
     "name": "stdout",
     "text": [
      "built in Python Round\n",
      "414 ns ± 11.7 ns per loop (mean ± std. dev. of 7 runs, 1000000 loops each)\n",
      "numpy round\n",
      "17.5 µs ± 171 ns per loop (mean ± std. dev. of 7 runs, 100000 loops each)\n",
      "Pandas DataFrame round\n",
      "667 µs ± 24 µs per loop (mean ± std. dev. of 7 runs, 1000 loops each)\n"
     ]
    }
   ],
   "metadata": {}
  },
  {
   "cell_type": "code",
   "execution_count": 78,
   "source": [
    "#bad_dictionary = {[2]:\"one\"}"
   ],
   "outputs": [],
   "metadata": {}
  },
  {
   "cell_type": "code",
   "execution_count": 79,
   "source": [
    "new_dictionary = {\"one\":1}"
   ],
   "outputs": [],
   "metadata": {}
  },
  {
   "cell_type": "code",
   "execution_count": 80,
   "source": [
    "submissions = {\"armbar\": \"upper_body\", \n",
    "               \"arm_triangle\": \"upper_body\", \n",
    "               \"heel_hook\": \"lower_body\", \n",
    "               \"knee_bar\": \"lower_body\"}\n",
    "#type(submissions)\n",
    "#submissions.items?\n",
    "submissions"
   ],
   "outputs": [
    {
     "output_type": "execute_result",
     "data": {
      "text/plain": [
       "{'armbar': 'upper_body',\n",
       " 'arm_triangle': 'upper_body',\n",
       " 'heel_hook': 'lower_body',\n",
       " 'knee_bar': 'lower_body'}"
      ]
     },
     "metadata": {},
     "execution_count": 80
    }
   ],
   "metadata": {}
  },
  {
   "cell_type": "code",
   "execution_count": 81,
   "source": [
    "new_dict =dict(upper_body=\"lower_body\")\n",
    "new_dict"
   ],
   "outputs": [
    {
     "output_type": "execute_result",
     "data": {
      "text/plain": [
       "{'upper_body': 'lower_body'}"
      ]
     },
     "metadata": {},
     "execution_count": 81
    }
   ],
   "metadata": {}
  },
  {
   "cell_type": "code",
   "execution_count": 82,
   "source": [
    "#submissions.items?"
   ],
   "outputs": [],
   "metadata": {}
  },
  {
   "cell_type": "code",
   "execution_count": 83,
   "source": [
    "for submission, body_part in submissions.items():\n",
    "    print(f\"The {submission} is an attack on the {body_part}\")"
   ],
   "outputs": [
    {
     "output_type": "stream",
     "name": "stdout",
     "text": [
      "The armbar is an attack on the upper_body\n",
      "The arm_triangle is an attack on the upper_body\n",
      "The heel_hook is an attack on the lower_body\n",
      "The knee_bar is an attack on the lower_body\n"
     ]
    }
   ],
   "metadata": {}
  },
  {
   "cell_type": "code",
   "execution_count": 84,
   "source": [
    "for _, body_parts in submissions.items():\n",
    "  print(body_parts)"
   ],
   "outputs": [
    {
     "output_type": "stream",
     "name": "stdout",
     "text": [
      "upper_body\n",
      "upper_body\n",
      "lower_body\n",
      "lower_body\n"
     ]
    }
   ],
   "metadata": {}
  },
  {
   "cell_type": "code",
   "execution_count": 85,
   "source": [
    "print(f\"These are lower_body submission attacks in Brazilian Jiu Jitsu:\")\n",
    "for submission, body_part in submissions.items():\n",
    "    if body_part == \"lower_body\":\n",
    "        print(submission)"
   ],
   "outputs": [
    {
     "output_type": "stream",
     "name": "stdout",
     "text": [
      "These are lower_body submission attacks in Brazilian Jiu Jitsu:\n",
      "heel_hook\n",
      "knee_bar\n"
     ]
    }
   ],
   "metadata": {}
  },
  {
   "cell_type": "code",
   "execution_count": 86,
   "source": [
    "print(f\"These are keys: {submissions.keys()}\")\n",
    "print(f\"These are values: {submissions.values()}\")"
   ],
   "outputs": [
    {
     "output_type": "stream",
     "name": "stdout",
     "text": [
      "These are keys: dict_keys(['armbar', 'arm_triangle', 'heel_hook', 'knee_bar'])\n",
      "These are values: dict_values(['upper_body', 'upper_body', 'lower_body', 'lower_body'])\n"
     ]
    }
   ],
   "metadata": {}
  },
  {
   "cell_type": "code",
   "execution_count": 87,
   "source": [
    "if \"armbar\" in submissions:\n",
    "  print(\"found key\")"
   ],
   "outputs": [
    {
     "output_type": "stream",
     "name": "stdout",
     "text": [
      "found key\n"
     ]
    }
   ],
   "metadata": {}
  },
  {
   "cell_type": "code",
   "execution_count": 88,
   "source": [
    "print(\"timing key membership\")\n",
    "%timeit if \"armbar\" in submissions: pass "
   ],
   "outputs": [
    {
     "output_type": "stream",
     "name": "stdout",
     "text": [
      "timing key membership\n",
      "39.7 ns ± 0.973 ns per loop (mean ± std. dev. of 7 runs, 10000000 loops each)\n"
     ]
    }
   ],
   "metadata": {}
  },
  {
   "cell_type": "code",
   "execution_count": 89,
   "source": [
    "list_of_bjj_positions = [\"mount\", \"full-guard\", \"half-guard\", \n",
    "                         \"turtle\", \"side-control\", \"rear-mount\", \n",
    "                         \"knee-on-belly\", \"north-south\", \"open-guard\"]"
   ],
   "outputs": [],
   "metadata": {}
  },
  {
   "cell_type": "code",
   "execution_count": 90,
   "source": [
    "bjj_dominant_positions = list()\n",
    "bjj_dominant_positions.append(\"side-control\")\n",
    "bjj_dominant_positions.append(\"mount\")\n",
    "bjj_dominant_positions"
   ],
   "outputs": [
    {
     "output_type": "execute_result",
     "data": {
      "text/plain": [
       "['side-control', 'mount']"
      ]
     },
     "metadata": {},
     "execution_count": 90
    }
   ],
   "metadata": {}
  },
  {
   "cell_type": "code",
   "execution_count": 91,
   "source": [
    "guards = \"full, half, open\"\n",
    "guard_list = [f\"{guard}-guard\" for guard in guards.split(\",\")]\n",
    "guard_list"
   ],
   "outputs": [
    {
     "output_type": "execute_result",
     "data": {
      "text/plain": [
       "['full-guard', ' half-guard', ' open-guard']"
      ]
     },
     "metadata": {},
     "execution_count": 91
    }
   ],
   "metadata": {}
  },
  {
   "cell_type": "code",
   "execution_count": 92,
   "source": [
    "for position in list_of_bjj_positions:\n",
    "    if \"open\" in position: #explore on your own \"guard\"\n",
    "        print(position)"
   ],
   "outputs": [
    {
     "output_type": "stream",
     "name": "stdout",
     "text": [
      "open-guard\n"
     ]
    }
   ],
   "metadata": {}
  },
  {
   "cell_type": "code",
   "execution_count": 93,
   "source": [
    "print(f'First position: {list_of_bjj_positions[:1]}')\n",
    "print(f'Last position: {list_of_bjj_positions[-1:]}')\n",
    "print(f'First three positions: {list_of_bjj_positions[0:3]}')"
   ],
   "outputs": [
    {
     "output_type": "stream",
     "name": "stdout",
     "text": [
      "First position: ['mount']\n",
      "Last position: ['open-guard']\n",
      "First three positions: ['mount', 'full-guard', 'half-guard']\n"
     ]
    }
   ],
   "metadata": {}
  },
  {
   "cell_type": "code",
   "execution_count": 94,
   "source": [
    "bjj_position_matrix = [\n",
    "    [\"dominant\", \"top-mount\", \"back-mount\", \"side-control\"],\n",
    "    [\"neutral\", \"open-guard\", \"full-guard\", \"standing\"],\n",
    "    [\"weak\", \"turtle\", \"bottom-back-mount\", \"bottom-mount\"]\n",
    "]\n",
    "list(zip(*bjj_position_matrix))"
   ],
   "outputs": [
    {
     "output_type": "execute_result",
     "data": {
      "text/plain": [
       "[('dominant', 'neutral', 'weak'),\n",
       " ('top-mount', 'open-guard', 'turtle'),\n",
       " ('back-mount', 'full-guard', 'bottom-back-mount'),\n",
       " ('side-control', 'standing', 'bottom-mount')]"
      ]
     },
     "metadata": {},
     "execution_count": 94
    }
   ],
   "metadata": {}
  },
  {
   "cell_type": "code",
   "execution_count": 95,
   "source": [
    "zip?"
   ],
   "outputs": [
    {
     "output_type": "stream",
     "name": "stdout",
     "text": [
      "\u001b[0;31mInit signature:\u001b[0m \u001b[0mzip\u001b[0m\u001b[0;34m(\u001b[0m\u001b[0mself\u001b[0m\u001b[0;34m,\u001b[0m \u001b[0;34m/\u001b[0m\u001b[0;34m,\u001b[0m \u001b[0;34m*\u001b[0m\u001b[0margs\u001b[0m\u001b[0;34m,\u001b[0m \u001b[0;34m**\u001b[0m\u001b[0mkwargs\u001b[0m\u001b[0;34m)\u001b[0m\u001b[0;34m\u001b[0m\u001b[0;34m\u001b[0m\u001b[0m\n",
      "\u001b[0;31mDocstring:\u001b[0m     \n",
      "zip(*iterables) --> A zip object yielding tuples until an input is exhausted.\n",
      "\n",
      "   >>> list(zip('abcdefg', range(3), range(4)))\n",
      "   [('a', 0, 0), ('b', 1, 1), ('c', 2, 2)]\n",
      "\n",
      "The zip object yields n-length tuples, where n is the number of iterables\n",
      "passed as positional arguments to zip().  The i-th element in every tuple\n",
      "comes from the i-th iterable argument to zip().  This continues until the\n",
      "shortest argument is exhausted.\n",
      "\u001b[0;31mType:\u001b[0m           type\n",
      "\u001b[0;31mSubclasses:\u001b[0m     \n"
     ]
    }
   ],
   "metadata": {}
  },
  {
   "cell_type": "code",
   "execution_count": 96,
   "source": [
    "unique_attacks = set((\"armbar\",\"armbar\", \"armbar\", \"kimura\", \"kimura\", \"heel hook\"))\n",
    "print(type(unique_attacks))\n",
    "unique_attacks"
   ],
   "outputs": [
    {
     "output_type": "stream",
     "name": "stdout",
     "text": [
      "<class 'set'>\n"
     ]
    },
    {
     "output_type": "execute_result",
     "data": {
      "text/plain": [
       "{'armbar', 'heel hook', 'kimura'}"
      ]
     },
     "metadata": {},
     "execution_count": 96
    }
   ],
   "metadata": {}
  },
  {
   "cell_type": "code",
   "execution_count": 97,
   "source": [
    "attacks_set_one = set((\"armbar\", \"kimura\", \"heal-hook\"))\n",
    "attacks_set_two = set((\"toe-hold\", \"knee-bar\", \"heal-hook\"))\n",
    "unique_set_one_attacks = attacks_set_one - attacks_set_two\n",
    "print(f\"Unique Set One Attacks {unique_set_one_attacks}\")"
   ],
   "outputs": [
    {
     "output_type": "stream",
     "name": "stdout",
     "text": [
      "Unique Set One Attacks {'kimura', 'armbar'}\n"
     ]
    }
   ],
   "metadata": {}
  },
  {
   "cell_type": "code",
   "execution_count": null,
   "source": [],
   "outputs": [],
   "metadata": {}
  }
 ],
 "metadata": {
  "orig_nbformat": 4,
  "language_info": {
   "name": "python",
   "version": "3.9.7",
   "mimetype": "text/x-python",
   "codemirror_mode": {
    "name": "ipython",
    "version": 3
   },
   "pygments_lexer": "ipython3",
   "nbconvert_exporter": "python",
   "file_extension": ".py"
  },
  "kernelspec": {
   "name": "python3",
   "display_name": "Python 3.9.6 64-bit ('ML_DS': conda)"
  },
  "interpreter": {
   "hash": "746800f96ece29ab8b5df47a779cb8f76655f7cf39bc7615a93fb17b55f50443"
  }
 },
 "nbformat": 4,
 "nbformat_minor": 2
}